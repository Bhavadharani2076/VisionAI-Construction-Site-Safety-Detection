{
  "nbformat": 4,
  "nbformat_minor": 0,
  "metadata": {
    "colab": {
      "provenance": [],
      "authorship_tag": "ABX9TyNTQrk3Mm5UrUPKuX8oudPj",
      "include_colab_link": true
    },
    "kernelspec": {
      "name": "python3",
      "display_name": "Python 3"
    },
    "language_info": {
      "name": "python"
    }
  },
  "cells": [
    {
      "cell_type": "markdown",
      "metadata": {
        "id": "view-in-github",
        "colab_type": "text"
      },
      "source": [
        "<a href=\"https://colab.research.google.com/github/Bhavadharani2076/VisionAI-Construction-Site-Safety-Detection/blob/main/VisionAI.ipynb\" target=\"_parent\"><img src=\"https://colab.research.google.com/assets/colab-badge.svg\" alt=\"Open In Colab\"/></a>"
      ]
    },
    {
      "cell_type": "code",
      "source": [
        "video_path='/content/constructionSite.mp4'\n"
      ],
      "metadata": {
        "id": "exvADOr3glyJ"
      },
      "execution_count": 5,
      "outputs": []
    },
    {
      "cell_type": "code",
      "source": [
        "\n",
        "import cv2"
      ],
      "metadata": {
        "id": "9uCFgN8ihqNg"
      },
      "execution_count": 6,
      "outputs": []
    },
    {
      "cell_type": "code",
      "source": [
        "cap = cv2.VideoCapture(video_path)"
      ],
      "metadata": {
        "id": "kgHi_eerg8FE"
      },
      "execution_count": 7,
      "outputs": []
    },
    {
      "cell_type": "code",
      "source": [
        "num_frames = cap.get(cv2.CAP_PROP_FRAME_COUNT)\n",
        "num_frames"
      ],
      "metadata": {
        "colab": {
          "base_uri": "https://localhost:8080/"
        },
        "id": "nkqBhxXEhtPo",
        "outputId": "62ee595b-d1ea-491a-a779-12314a447a90"
      },
      "execution_count": 8,
      "outputs": [
        {
          "output_type": "execute_result",
          "data": {
            "text/plain": [
              "266.0"
            ]
          },
          "metadata": {},
          "execution_count": 8
        }
      ]
    },
    {
      "cell_type": "markdown",
      "source": [],
      "metadata": {
        "id": "aNfQDI2Qis3t"
      }
    },
    {
      "cell_type": "code",
      "source": [
        "frames=[]"
      ],
      "metadata": {
        "id": "XiSy7jnphtRh"
      },
      "execution_count": 9,
      "outputs": []
    },
    {
      "cell_type": "code",
      "source": [
        "for i in range(int(num_frames)):\n",
        "    success,frame=cap.read()\n",
        "    if success:\n",
        "        cv2.imwrite(f\"frame{i}.jpg\", frame)"
      ],
      "metadata": {
        "id": "rieMepGXhtUn"
      },
      "execution_count": 10,
      "outputs": []
    },
    {
      "cell_type": "code",
      "source": [
        "!pip install roboflow"
      ],
      "metadata": {
        "colab": {
          "base_uri": "https://localhost:8080/"
        },
        "id": "XUpzM5vli9ea",
        "outputId": "f4b2f9dc-e564-40cb-c02b-c189c084fcca"
      },
      "execution_count": 11,
      "outputs": [
        {
          "output_type": "stream",
          "name": "stdout",
          "text": [
            "Requirement already satisfied: roboflow in /usr/local/lib/python3.12/dist-packages (1.2.11)\n",
            "Requirement already satisfied: certifi in /usr/local/lib/python3.12/dist-packages (from roboflow) (2025.10.5)\n",
            "Requirement already satisfied: idna==3.7 in /usr/local/lib/python3.12/dist-packages (from roboflow) (3.7)\n",
            "Requirement already satisfied: cycler in /usr/local/lib/python3.12/dist-packages (from roboflow) (0.12.1)\n",
            "Requirement already satisfied: kiwisolver>=1.3.1 in /usr/local/lib/python3.12/dist-packages (from roboflow) (1.4.9)\n",
            "Requirement already satisfied: matplotlib in /usr/local/lib/python3.12/dist-packages (from roboflow) (3.10.0)\n",
            "Requirement already satisfied: numpy>=1.18.5 in /usr/local/lib/python3.12/dist-packages (from roboflow) (2.0.2)\n",
            "Requirement already satisfied: opencv-python-headless==4.10.0.84 in /usr/local/lib/python3.12/dist-packages (from roboflow) (4.10.0.84)\n",
            "Requirement already satisfied: Pillow>=7.1.2 in /usr/local/lib/python3.12/dist-packages (from roboflow) (11.3.0)\n",
            "Requirement already satisfied: pi-heif<2 in /usr/local/lib/python3.12/dist-packages (from roboflow) (1.1.1)\n",
            "Requirement already satisfied: pillow-avif-plugin<2 in /usr/local/lib/python3.12/dist-packages (from roboflow) (1.5.2)\n",
            "Requirement already satisfied: python-dateutil in /usr/local/lib/python3.12/dist-packages (from roboflow) (2.9.0.post0)\n",
            "Requirement already satisfied: python-dotenv in /usr/local/lib/python3.12/dist-packages (from roboflow) (1.1.1)\n",
            "Requirement already satisfied: requests in /usr/local/lib/python3.12/dist-packages (from roboflow) (2.32.4)\n",
            "Requirement already satisfied: six in /usr/local/lib/python3.12/dist-packages (from roboflow) (1.17.0)\n",
            "Requirement already satisfied: urllib3>=1.26.6 in /usr/local/lib/python3.12/dist-packages (from roboflow) (2.5.0)\n",
            "Requirement already satisfied: tqdm>=4.41.0 in /usr/local/lib/python3.12/dist-packages (from roboflow) (4.67.1)\n",
            "Requirement already satisfied: PyYAML>=5.3.1 in /usr/local/lib/python3.12/dist-packages (from roboflow) (6.0.3)\n",
            "Requirement already satisfied: requests-toolbelt in /usr/local/lib/python3.12/dist-packages (from roboflow) (1.0.0)\n",
            "Requirement already satisfied: filetype in /usr/local/lib/python3.12/dist-packages (from roboflow) (1.2.0)\n",
            "Requirement already satisfied: contourpy>=1.0.1 in /usr/local/lib/python3.12/dist-packages (from matplotlib->roboflow) (1.3.3)\n",
            "Requirement already satisfied: fonttools>=4.22.0 in /usr/local/lib/python3.12/dist-packages (from matplotlib->roboflow) (4.60.1)\n",
            "Requirement already satisfied: packaging>=20.0 in /usr/local/lib/python3.12/dist-packages (from matplotlib->roboflow) (25.0)\n",
            "Requirement already satisfied: pyparsing>=2.3.1 in /usr/local/lib/python3.12/dist-packages (from matplotlib->roboflow) (3.2.5)\n",
            "Requirement already satisfied: charset_normalizer<4,>=2 in /usr/local/lib/python3.12/dist-packages (from requests->roboflow) (3.4.3)\n"
          ]
        }
      ]
    },
    {
      "cell_type": "code",
      "source": [
        "from roboflow import Roboflow\n",
        "rf = Roboflow(api_key=\"JOz8U8pvFBs24bb0n9Cl\")\n",
        "project = rf.workspace().project(\"construction-site-yqjci\")\n",
        "model = project.version(2).model\n",
        "\n",
        "# infer on a local image\n",
        "\n",
        "\n",
        "for i in range(int(num_frames)):\n",
        "  print(model.predict(f\"frame{i}.jpg\", confidence=40, overlap=30).json())\n",
        "  model.predict(f\"frame{i}.jpg\", confidence=40, overlap=30).save(f\"p{i}.jpg\")\n",
        "  if( i==15 ):\n",
        "    break"
      ],
      "metadata": {
        "colab": {
          "base_uri": "https://localhost:8080/"
        },
        "id": "P7-hIWqjhtXQ",
        "outputId": "88caabc2-4064-4bde-ce79-15e22c7dd88d"
      },
      "execution_count": 12,
      "outputs": [
        {
          "output_type": "stream",
          "name": "stdout",
          "text": [
            "loading Roboflow workspace...\n",
            "loading Roboflow project...\n",
            "{'predictions': [{'x': 540, 'y': 127, 'width': 199, 'height': 150, 'confidence': 0.946311354637146, 'class': 'Protection suite', 'class_id': 5, 'detection_id': '3c06d8c3-ec17-45a9-999d-8f86782bbca2', 'image_path': 'frame0.jpg', 'prediction_type': 'ObjectDetectionModel'}], 'image': {'width': '640', 'height': '360'}}\n",
            "{'predictions': [{'x': 543, 'y': 126, 'width': 194, 'height': 151, 'confidence': 0.963758647441864, 'class': 'Protection suite', 'class_id': 5, 'detection_id': '1deb824c-0f92-4d1b-8919-3b1c6ace61bc', 'image_path': 'frame1.jpg', 'prediction_type': 'ObjectDetectionModel'}], 'image': {'width': '640', 'height': '360'}}\n",
            "{'predictions': [{'x': 544, 'y': 126, 'width': 192, 'height': 152, 'confidence': 0.9543067812919617, 'class': 'Protection suite', 'class_id': 5, 'detection_id': '8ddbd26d-3117-4bbe-b987-48edd3316c0c', 'image_path': 'frame2.jpg', 'prediction_type': 'ObjectDetectionModel'}], 'image': {'width': '640', 'height': '360'}}\n",
            "{'predictions': [{'x': 546, 'y': 126, 'width': 188, 'height': 152, 'confidence': 0.9467121362686157, 'class': 'Protection suite', 'class_id': 5, 'detection_id': '9eea26a2-f345-410f-95d1-1b0a98c363e4', 'image_path': 'frame3.jpg', 'prediction_type': 'ObjectDetectionModel'}], 'image': {'width': '640', 'height': '360'}}\n",
            "{'predictions': [{'x': 547, 'y': 126, 'width': 186, 'height': 152, 'confidence': 0.9079811573028564, 'class': 'Protection suite', 'class_id': 5, 'detection_id': '86aae5a4-1080-44d4-98a3-98cea2342073', 'image_path': 'frame4.jpg', 'prediction_type': 'ObjectDetectionModel'}], 'image': {'width': '640', 'height': '360'}}\n",
            "{'predictions': [{'x': 548, 'y': 126, 'width': 184, 'height': 151, 'confidence': 0.937662661075592, 'class': 'Protection suite', 'class_id': 5, 'detection_id': '4cf0cf62-7b8e-4679-a10a-4f74f9aa0f57', 'image_path': 'frame5.jpg', 'prediction_type': 'ObjectDetectionModel'}], 'image': {'width': '640', 'height': '360'}}\n",
            "{'predictions': [{'x': 549, 'y': 124, 'width': 181, 'height': 146, 'confidence': 0.9451600909233093, 'class': 'Protection suite', 'class_id': 5, 'detection_id': 'ce015a57-b8f1-408f-bb1e-db8b9a23f83f', 'image_path': 'frame6.jpg', 'prediction_type': 'ObjectDetectionModel'}], 'image': {'width': '640', 'height': '360'}}\n",
            "{'predictions': [{'x': 550, 'y': 126, 'width': 180, 'height': 151, 'confidence': 0.8942369222640991, 'class': 'Protection suite', 'class_id': 5, 'detection_id': '2ed19a0c-c395-4a2b-a1bb-4daa9768792d', 'image_path': 'frame7.jpg', 'prediction_type': 'ObjectDetectionModel'}], 'image': {'width': '640', 'height': '360'}}\n",
            "{'predictions': [{'x': 550, 'y': 126, 'width': 180, 'height': 151, 'confidence': 0.8980575799942017, 'class': 'Protection suite', 'class_id': 5, 'detection_id': '6b8a1538-d06f-4a61-b250-7894687a367b', 'image_path': 'frame8.jpg', 'prediction_type': 'ObjectDetectionModel'}], 'image': {'width': '640', 'height': '360'}}\n",
            "{'predictions': [{'x': 550, 'y': 126, 'width': 179, 'height': 152, 'confidence': 0.8878574371337891, 'class': 'Protection suite', 'class_id': 5, 'detection_id': '40670315-cf7b-4661-b4a8-0808b0400db4', 'image_path': 'frame9.jpg', 'prediction_type': 'ObjectDetectionModel'}], 'image': {'width': '640', 'height': '360'}}\n",
            "{'predictions': [{'x': 550, 'y': 126, 'width': 180, 'height': 153, 'confidence': 0.8908636569976807, 'class': 'Protection suite', 'class_id': 5, 'detection_id': 'f3853710-8e45-4c29-8a12-8ba44de0255a', 'image_path': 'frame10.jpg', 'prediction_type': 'ObjectDetectionModel'}], 'image': {'width': '640', 'height': '360'}}\n",
            "{'predictions': [{'x': 548, 'y': 126, 'width': 183, 'height': 153, 'confidence': 0.887404203414917, 'class': 'Protection suite', 'class_id': 5, 'detection_id': 'fc441b18-0f27-4cb3-9cc1-d495659fa9bc', 'image_path': 'frame11.jpg', 'prediction_type': 'ObjectDetectionModel'}], 'image': {'width': '640', 'height': '360'}}\n",
            "{'predictions': [{'x': 548, 'y': 125, 'width': 184, 'height': 153, 'confidence': 0.9189684391021729, 'class': 'Protection suite', 'class_id': 5, 'detection_id': '434dfe8c-8b7e-4dc7-826e-13f7e97e1fc4', 'image_path': 'frame12.jpg', 'prediction_type': 'ObjectDetectionModel'}], 'image': {'width': '640', 'height': '360'}}\n",
            "{'predictions': [{'x': 546, 'y': 125, 'width': 187, 'height': 154, 'confidence': 0.9572312235832214, 'class': 'Protection suite', 'class_id': 5, 'detection_id': '7453b145-68b5-4785-bde5-fbcf992e6aac', 'image_path': 'frame13.jpg', 'prediction_type': 'ObjectDetectionModel'}], 'image': {'width': '640', 'height': '360'}}\n",
            "{'predictions': [{'x': 544, 'y': 125, 'width': 191, 'height': 154, 'confidence': 0.9498046636581421, 'class': 'Protection suite', 'class_id': 5, 'detection_id': 'eab24a5f-a586-4e36-b297-72cdfed2c296', 'image_path': 'frame14.jpg', 'prediction_type': 'ObjectDetectionModel'}], 'image': {'width': '640', 'height': '360'}}\n",
            "{'predictions': [{'x': 543, 'y': 124, 'width': 193, 'height': 155, 'confidence': 0.9464973211288452, 'class': 'Protection suite', 'class_id': 5, 'detection_id': 'c2eda1fd-87dd-4b0b-b946-c467dba19457', 'image_path': 'frame15.jpg', 'prediction_type': 'ObjectDetectionModel'}], 'image': {'width': '640', 'height': '360'}}\n"
          ]
        }
      ]
    },
    {
      "cell_type": "code",
      "source": [],
      "metadata": {
        "id": "Mk9-mx_giWRw"
      },
      "execution_count": 8,
      "outputs": []
    },
    {
      "cell_type": "code",
      "source": [
        "import cv2\n",
        "\n",
        "# Get the frames\n",
        "frames = [cv2.imread(f\"p{i}.jpg\") for i in range(int(num_frames))]\n",
        "\n",
        "# Create a VideoWriter object\n",
        "if frames:\n",
        "    video = cv2.VideoWriter(\"output.mp4\", cv2.VideoWriter_fourcc(*'mp4v'), 30, (frames[0].shape[1], frames[0].shape[0]))\n",
        "else:\n",
        "    print(\"No frames found.\")\n",
        "    exit()\n",
        "\n",
        "# Write the frames to the video\n",
        "for frame in frames:\n",
        "    video.write(frame)\n",
        "\n",
        "# Close the VideoWriter object\n",
        "video.release()"
      ],
      "metadata": {
        "id": "fDhEi66EiWTm"
      },
      "execution_count": 13,
      "outputs": []
    },
    {
      "cell_type": "code",
      "source": [],
      "metadata": {
        "id": "fvIpwE8Z_3FJ"
      },
      "execution_count": null,
      "outputs": []
    }
  ]
}